{
 "cells": [
  {
   "cell_type": "markdown",
   "id": "34188f3a",
   "metadata": {},
   "source": [
    "https://github.com/sanderboele/micropython-MH-Z14A\n",
    "\n",
    "UART pin connections can be configured, but these are default:\n",
    "\n",
    "MH-Z14A Pin\t|ESP32\n",
    "\n",
    "UART RXD 18\t|Pin 18\n",
    "UART TXD 19\t|Pin 19\n",
    "Vin 1\t|5V\n",
    "GND 3\t|GND\n"
   ]
  },
  {
   "cell_type": "code",
   "execution_count": null,
   "id": "5e6ae625",
   "metadata": {},
   "outputs": [],
   "source": [
    "%local\n",
    "!ls /dev/tty.usbserial-*"
   ]
  },
  {
   "cell_type": "code",
   "execution_count": 1,
   "id": "7abc2055",
   "metadata": {},
   "outputs": [
    {
     "output_type": "stream",
     "name": "stdout",
     "text": [
      "\u001b[34mConnected on /dev/tty.usbserial-0001\n\u001b[0m"
     ]
    }
   ],
   "source": [
    "%connect /dev/tty.usbserial-0001 --baudrate=115200 --user='micro' --password='python' --wait=0"
   ]
  },
  {
   "cell_type": "code",
   "execution_count": 1,
   "id": "b8d984fc",
   "metadata": {},
   "outputs": [],
   "source": [
    "import mhz14a\n",
    "from time import sleep_ms\n",
    "\n",
    "CO2Sensor = mhz14a.MHZ14A(uartNum=1, rxPin=18, txPin=19)"
   ]
  },
  {
   "cell_type": "code",
   "execution_count": 1,
   "id": "acfcbffb",
   "metadata": {},
   "outputs": [
    {
     "output_type": "stream",
     "name": "stdout",
     "text": [
      "CO2 value is: 846 ppm\n"
     ]
    }
   ],
   "source": [
    "# CO2 sensor needs to warm up, so after powering up\n",
    "# initial read may fail as it's still warming up\n",
    "\n",
    "attempts = 0\n",
    "ppm=0\n",
    "while attempts < 3:\n",
    "    ppm = CO2Sensor.readCO2()\n",
    "    if ppm > 0:\n",
    "        print(\"CO2 value is: \" + str(ppm) + \" ppm\")\n",
    "        break\n",
    "    else:\n",
    "        sleep_ms(500)"
   ]
  },
  {
   "cell_type": "code",
   "execution_count": 1,
   "metadata": {},
   "outputs": [],
   "source": [
    "ppm=CO2Sensor.readCO2()"
   ]
  },
  {
   "cell_type": "code",
   "execution_count": null,
   "metadata": {},
   "outputs": [],
   "source": [
    "while True:\n",
    "    ppm = CO2Sensor.readCO2()\n",
    "    if ppm > 0:\n",
    "        print(\"CO2 value is: \" + str(ppm) + \" ppm\")\n",
    "    sleep_ms(2000)\n"
   ]
  }
 ],
 "metadata": {
  "kernelspec": {
   "display_name": "MicroPython Remote",
   "language": "micropython",
   "name": "micropython"
  },
  "language_info": {
   "codemirror_mode": "python",
   "file_extension": ".py",
   "mimetype": "text/python",
   "name": "micropython"
  }
 },
 "nbformat": 4,
 "nbformat_minor": 5
}
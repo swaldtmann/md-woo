{
 "cells": [
  {
   "cell_type": "markdown",
   "metadata": {},
   "source": [
    "# AD9833 Functional test with MicroPython Remote\n",
    "- https://www.analog.com/media/en/technical-documentation/data-sheets/ad9833.pdf\n",
    "- https://pypi.org/project/jupyter-micropython-remote/\n",
    "- https://towardsdatascience.com/micropython-on-esp-using-jupyter-6f366ff5ed9"
   ]
  },
  {
   "cell_type": "code",
   "execution_count": null,
   "metadata": {},
   "outputs": [],
   "source": [
    "%local\n",
    "!ls /dev/ttyUSB*"
   ]
  },
  {
   "cell_type": "code",
   "execution_count": 1,
   "metadata": {},
   "outputs": [
    {
     "name": "stdout",
     "output_type": "stream",
     "text": [
      "\u001b[34mConnected on COM4\n",
      "\u001b[0m"
     ]
    }
   ],
   "source": [
    "# %connect /dev/ttyUSB0 --baudrate=115200 --user='micro' --password='python' --wait=0\n",
    "\n",
    "%connect COM4 --baudrate=115200 --user='micro' --password='python' --wait=0"
   ]
  },
  {
   "cell_type": "code",
   "execution_count": 1,
   "metadata": {},
   "outputs": [],
   "source": [
    "# %lsmagic"
   ]
  },
  {
   "cell_type": "code",
   "execution_count": 1,
   "metadata": {},
   "outputs": [],
   "source": [
    "import peripherals\n",
    "import register \n",
    "from ad9833 import *\n",
    "\n",
    "import machine\n",
    "import gc\n",
    "\n",
    "gc.collect()"
   ]
  },
  {
   "cell_type": "markdown",
   "metadata": {},
   "source": [
    "## Debug mode?"
   ]
  },
  {
   "cell_type": "code",
   "execution_count": 1,
   "metadata": {
    "scrolled": false
   },
   "outputs": [],
   "source": [
    "AD9833.DEBUG_MODE_SHOW_BUS_DATA = False        # whether to show bus data. \n",
    "AD9833.DEBUG_MODE_PRINT_REGISTER = False        # whether to print registers. "
   ]
  },
  {
   "cell_type": "markdown",
   "metadata": {},
   "source": [
    "## Generators and Modulators"
   ]
  },
  {
   "cell_type": "code",
   "execution_count": 1,
   "metadata": {},
   "outputs": [],
   "source": [
    "with_hardware_device = True\n",
    "\n",
    "if with_hardware_device:\n",
    "    _spi = peripherals.SPI.get_uPy_spi(polarity = 1)\n",
    "    _ss = peripherals.Pin.get_uPy_pin(pin_id = 15, output = True) \n",
    "else:\n",
    "    _spi = _ss = None  # using None for testing without actual hardware device.\n",
    "\n",
    "bus = peripherals.SPI(_spi, _ss)\n",
    "adf = AD9833(bus) \n",
    "\n",
    "ad.reset()"
   ]
  },
  {
   "cell_type": "markdown",
   "metadata": {},
   "source": [
    "## Member functions test"
   ]
  },
  {
   "cell_type": "code",
   "execution_count": 1,
   "metadata": {},
   "outputs": [
    {
     "name": "stdout",
     "output_type": "stream",
     "text": [
      "ad.close()\n",
      "ad.print()\n",
      "ad.start()\n",
      "ad.stop()\n",
      "ad.update()\n",
      "ad.enable()\n",
      "ad.init()\n",
      "ad.reset()\n",
      "ad.enabled()\n",
      "ad.DEBUG_MODE()\n",
      "ad.REGISTERS_COUNT()\n",
      "ad.FREQ_MCLK()\n",
      "ad.frequency()\n",
      "ad.SHAPES_CONFIG()\n",
      "ad.shape()\n",
      "ad.enable_output()\n",
      "ad.set_frequency()\n",
      "ad.set_phase()\n",
      "ad.select_freq_source()\n",
      "ad.select_phase_source()\n",
      "ad.freq_resolution()\n",
      "ad.phase_resolution()\n",
      "ad.active_freq_reg_idx()\n",
      "ad.active_phase_reg_idx()\n",
      "ad.current_frequency_register()\n",
      "ad.current_frequency()\n",
      "ad.current_phase_register()\n",
      "ad.current_phase()\n",
      "ad.apply_signal()\n",
      "ad.pause()\n",
      "ad.resume()\n",
      "ad.DEBUG_MODE_SHOW_BUS_DATA()\n",
      "ad.DEBUG_MODE_PRINT_REGISTER()\n",
      "ad.do()\n",
      "ad.do_on_devices()\n"
     ]
    }
   ],
   "source": [
    "for f in dir(AD9833):\n",
    "    if not f.startswith('_'):\n",
    "        print('ad.{}()'.format(f))"
   ]
  },
  {
   "cell_type": "code",
   "execution_count": 1,
   "metadata": {},
   "outputs": [
    {
     "name": "stdout",
     "output_type": "stream",
     "text": [
      "\n",
      "<< Control >>    :  ('0x2000', '0b10000000000000')\n",
      "[ D15 ]        :  0\n",
      "[ D14 ]        :  0\n",
      "[ B28 ]        :  1\n",
      "[ HLB ]        :  0\n",
      "[ FSELECT ]    :  0\n",
      "[ PSELECT ]    :  0\n",
      "[ Reserved_9 ] :  0\n",
      "[ Reset ]      :  0\n",
      "[ SLEEP1 ]     :  0\n",
      "[ SLEEP12 ]    :  0\n",
      "[ OPBITEN ]    :  0\n",
      "[ Reserved_4 ] :  0\n",
      "[ DIV2 ]       :  0\n",
      "[ Reserved_2 ] :  0\n",
      "[ Mode ]       :  0\n",
      "[ Reserved_0 ] :  0\n",
      "\n",
      "<< Frequency >> :  ('0x4000', '0b100000000000000')\n",
      "[ Index ]     :  1\n",
      "[ Frequency ] :  0\n",
      "[ Hz ]        :  440.00\n",
      "[ Wave length (m) ]:  6.81347e+05\n",
      "[ Period (s) ]:  2.27273e-03\n",
      "[ MCLK ]      :  25000000\n",
      "\n",
      "<< Phase >> :  ('0xc000', '0b1100000000000000')\n",
      "[ D15 ]   :  1\n",
      "[ D14 ]   :  1\n",
      "[ Index ] :  0\n",
      "[ Phase ] :  0\n",
      "[ Degree ]:  0.00\n",
      "\n",
      "<< Frequency >> :  ('0x8000', '0b1000000000000000')\n",
      "[ Index ]     :  2\n",
      "[ Frequency ] :  0\n",
      "[ Hz ]        :  440.00\n",
      "[ Wave length (m) ]:  6.81347e+05\n",
      "[ Period (s) ]:  2.27273e-03\n",
      "[ MCLK ]      :  25000000\n",
      "\n",
      "<< Phase >> :  ('0xe000', '0b1110000000000000')\n",
      "[ D15 ]   :  1\n",
      "[ D14 ]   :  1\n",
      "[ Index ] :  1\n",
      "[ Phase ] :  0\n",
      "[ Degree ]:  0.00\n"
     ]
    }
   ],
   "source": [
    "ad.print()"
   ]
  },
  {
   "cell_type": "code",
   "execution_count": 1,
   "metadata": {
    "scrolled": false
   },
   "outputs": [
    {
     "name": "stdout",
     "output_type": "stream",
     "text": [
      "\r\n",
      "<< test >>:  ('0x0', '0b0')\r\n"
     ]
    }
   ],
   "source": [
    "cr = ad.control_register\n",
    "cr_ds = cr.dumps()\n",
    "cr1 = register.Register('test')\n",
    "cr1.loads(cr_ds)\n",
    "cr1.print();"
   ]
  },
  {
   "cell_type": "code",
   "execution_count": 1,
   "metadata": {},
   "outputs": [
    {
     "name": "stdout",
     "output_type": "stream",
     "text": [
      "ad.close()\n",
      "ad.print()\n",
      "ad.start()\n",
      "ad.stop()\n",
      "ad.update()\n",
      "ad.enable()\n",
      "ad.init()\n",
      "ad.reset()\n",
      "ad.enabled()\n",
      "ad.DEBUG_MODE()\n",
      "ad.REGISTERS_COUNT()\n",
      "ad.FREQ_MCLK()\n",
      "ad.frequency()\n",
      "ad.SHAPES_CONFIG()\n",
      "ad.shape()\n",
      "ad.enable_output()\n",
      "ad.set_frequency()\n",
      "ad.set_phase()\n",
      "ad.select_freq_source()\n",
      "ad.select_phase_source()\n",
      "ad.freq_resolution()\n",
      "ad.phase_resolution()\n",
      "ad.active_freq_reg_idx()\n",
      "ad.active_phase_reg_idx()\n",
      "ad.current_frequency_register()\n",
      "ad.current_frequency()\n",
      "ad.current_phase_register()\n",
      "ad.current_phase()\n",
      "ad.apply_signal()\n",
      "ad.pause()\n",
      "ad.resume()\n",
      "ad.DEBUG_MODE_SHOW_BUS_DATA()\n",
      "ad.DEBUG_MODE_PRINT_REGISTER()\n",
      "ad.do()\n",
      "ad.do_on_devices()\n"
     ]
    }
   ],
   "source": [
    "for f in dir(AD9833):\n",
    "    if not f.startswith('_'):\n",
    "        print('ad.{}()'.format(f))"
   ]
  },
  {
   "cell_type": "code",
   "execution_count": 1,
   "metadata": {},
   "outputs": [],
   "source": [
    "ad.apply_signal()"
   ]
  },
  {
   "cell_type": "code",
   "execution_count": 1,
   "metadata": {},
   "outputs": [],
   "source": [
    "ad.close()"
   ]
  },
  {
   "cell_type": "code",
   "execution_count": 1,
   "metadata": {},
   "outputs": [],
   "source": [
    "ad.start()"
   ]
  },
  {
   "cell_type": "code",
   "execution_count": 1,
   "metadata": {
    "scrolled": false
   },
   "outputs": [],
   "source": [
    "ad.init()"
   ]
  },
  {
   "cell_type": "code",
   "execution_count": 1,
   "metadata": {},
   "outputs": [],
   "source": [
    "ad.current_frequency"
   ]
  },
  {
   "cell_type": "code",
   "execution_count": 1,
   "metadata": {},
   "outputs": [],
   "source": [
    "ad.current_phase"
   ]
  },
  {
   "cell_type": "code",
   "execution_count": 1,
   "metadata": {},
   "outputs": [],
   "source": [
    "ad.enable_output(False)"
   ]
  },
  {
   "cell_type": "code",
   "execution_count": 1,
   "metadata": {},
   "outputs": [],
   "source": [
    "ad.enable_output(True)"
   ]
  },
  {
   "cell_type": "code",
   "execution_count": 1,
   "metadata": {},
   "outputs": [],
   "source": [
    "ad.enable(False)\n",
    "ad.enabled"
   ]
  },
  {
   "cell_type": "code",
   "execution_count": 1,
   "metadata": {},
   "outputs": [],
   "source": [
    "ad._enable_internal_clock(True)"
   ]
  },
  {
   "cell_type": "code",
   "execution_count": 1,
   "metadata": {},
   "outputs": [],
   "source": [
    "ad.enable(True)\n",
    "ad.enabled"
   ]
  },
  {
   "cell_type": "code",
   "execution_count": 1,
   "metadata": {},
   "outputs": [],
   "source": [
    "ad.start()"
   ]
  },
  {
   "cell_type": "code",
   "execution_count": 1,
   "metadata": {},
   "outputs": [],
   "source": [
    "ad.freq_resolution"
   ]
  },
  {
   "cell_type": "code",
   "execution_count": 1,
   "metadata": {},
   "outputs": [],
   "source": [
    "ad.frequency"
   ]
  },
  {
   "cell_type": "code",
   "execution_count": 1,
   "metadata": {},
   "outputs": [],
   "source": [
    "ad.pause()"
   ]
  },
  {
   "cell_type": "code",
   "execution_count": 1,
   "metadata": {},
   "outputs": [],
   "source": [
    "ad.resume()"
   ]
  },
  {
   "cell_type": "code",
   "execution_count": 1,
   "metadata": {},
   "outputs": [],
   "source": [
    "ad.select_freq_source(1)"
   ]
  },
  {
   "cell_type": "code",
   "execution_count": 1,
   "metadata": {},
   "outputs": [],
   "source": [
    "ad.select_phase_source(1)"
   ]
  },
  {
   "cell_type": "code",
   "execution_count": 1,
   "metadata": {},
   "outputs": [],
   "source": [
    "ad.enable(False)"
   ]
  },
  {
   "cell_type": "code",
   "execution_count": 1,
   "metadata": {},
   "outputs": [],
   "source": [
    "ad.enable(True)"
   ]
  },
  {
   "cell_type": "code",
   "execution_count": 1,
   "metadata": {},
   "outputs": [],
   "source": [
    "ad.start()"
   ]
  },
  {
   "cell_type": "code",
   "execution_count": 1,
   "metadata": {},
   "outputs": [],
   "source": [
    "ad.shape = 'square'"
   ]
  },
  {
   "cell_type": "code",
   "execution_count": 1,
   "metadata": {},
   "outputs": [],
   "source": [
    "ad.shape = 'sine'\n",
    "ad.shape"
   ]
  },
  {
   "cell_type": "code",
   "execution_count": 1,
   "metadata": {},
   "outputs": [],
   "source": [
    "ad.set_frequency(freq = 440, idx = 0)\n",
    "ad.select_freq_source(0)"
   ]
  },
  {
   "cell_type": "code",
   "execution_count": null,
   "metadata": {},
   "outputs": [],
   "source": [
    "ad.current_frequency_register.print()"
   ]
  },
  {
   "cell_type": "code",
   "execution_count": 1,
   "metadata": {},
   "outputs": [],
   "source": [
    "ad.set_phase(30)"
   ]
  },
  {
   "cell_type": "code",
   "execution_count": 1,
   "metadata": {},
   "outputs": [],
   "source": [
    "ad.set_phase(phase = 45.5)\n",
    "\n",
    "ad.current_phase_register.elements['Phase'].value / POW2_12 * DEGREES_IN_PI2, ad.current_phase"
   ]
  },
  {
   "cell_type": "code",
   "execution_count": 1,
   "metadata": {},
   "outputs": [],
   "source": [
    "ad.update()"
   ]
  },
  {
   "cell_type": "code",
   "execution_count": 1,
   "metadata": {},
   "outputs": [],
   "source": [
    "ad.reset()"
   ]
  },
  {
   "cell_type": "code",
   "execution_count": 1,
   "metadata": {},
   "outputs": [],
   "source": [
    "ad.start()"
   ]
  },
  {
   "cell_type": "code",
   "execution_count": 1,
   "metadata": {},
   "outputs": [],
   "source": [
    "ad.stop()"
   ]
  },
  {
   "cell_type": "code",
   "execution_count": 1,
   "metadata": {},
   "outputs": [],
   "source": [
    "ad.close()"
   ]
  },
  {
   "cell_type": "code",
   "execution_count": 1,
   "metadata": {},
   "outputs": [],
   "source": [
    "# %disconnet"
   ]
  }
 ],
 "metadata": {
  "kernelspec": {
   "display_name": "MicroPython Remote",
   "language": "micropython",
   "name": "micropython"
  },
  "language_info": {
   "codemirror_mode": "python",
   "file_extension": ".py",
   "mimetype": "text/python",
   "name": "micropython"
  }
 },
 "nbformat": 4,
 "nbformat_minor": 2
}

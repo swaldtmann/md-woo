{
 "cells": [
  {
   "source": [
    "- pin_id_sck = 14 = W_CLK\n",
    "- pin_id_mosi = 13 = DATA\n",
    "- pin_id_miso = 12 = None\n",
    "- pin_id_ss = 15 = FQ_UD\n",
    "- pin_id_reset = 17 = RESET\n",
    "\n",
    "\n",
    "- https://hackaday.com/tag/ad9850/\n",
    "- https://www.youtube.com/watch?v=QkHsryvDZfo&t=1200s\n",
    "- https://swharden.com/blog/2018-06-03-bit-bang-ftdi-usb-to-serial-converters-to-drive-spi-devices/\n"
   ],
   "cell_type": "markdown",
   "metadata": {}
  },
  {
   "cell_type": "code",
   "execution_count": 1,
   "id": "7f89e211",
   "metadata": {},
   "outputs": [
    {
     "output_type": "stream",
     "name": "stdout",
     "text": [
      "\u001b[34m\u001b[43m/dev/tty.usbserial-0001\u001b[m\u001b[m\n"
     ]
    }
   ],
   "source": [
    "%local\n",
    "!ls /dev/tty.usbserial-*"
   ]
  },
  {
   "cell_type": "code",
   "execution_count": 1,
   "id": "7abc2055",
   "metadata": {},
   "outputs": [
    {
     "output_type": "stream",
     "name": "stdout",
     "text": [
      "\u001b[34mConnected on /dev/tty.usbserial-0001\n\u001b[0m"
     ]
    }
   ],
   "source": [
    "%connect /dev/tty.usbserial-0001 --baudrate=115200 --user='micro' --password='python' --wait=0"
   ]
  },
  {
   "cell_type": "code",
   "execution_count": 1,
   "metadata": {},
   "outputs": [
    {
     "output_type": "stream",
     "name": "stdout",
     "text": [
      "invalid syntax\n"
     ]
    }
   ],
   "source": [
    "from utilities import register\n",
    "from utilities.adapters import peripherals\n",
    "from utilities.shift_register import ShiftRegister\n",
    "from signal_generators.ad98xx.ad9833 import *\n",
    "from signal_generators.ad98xx.ad9834 import *\n",
    "from signal_generators.ad98xx.ad9850 import *"
   ]
  },
  {
   "cell_type": "code",
   "execution_count": 1,
   "metadata": {},
   "outputs": [],
   "source": [
    "# cls = AD9833\n",
    "# cls = AD9834\n",
    "cls = AD9850"
   ]
  },
  {
   "cell_type": "code",
   "execution_count": 1,
   "metadata": {},
   "outputs": [],
   "source": [
    "cls.DEBUG_MODE_SHOW_BUS_DATA = False      # whether to show bus data. \n",
    "cls.DEBUG_MODE_PRINT_REGISTER = False        # whether to print registers. "
   ]
  },
  {
   "cell_type": "code",
   "execution_count": 1,
   "metadata": {},
   "outputs": [],
   "source": [
    "import machine\n",
    "import gc\n",
    "\n",
    "gc.collect()"
   ]
  },
  {
   "cell_type": "code",
   "execution_count": 1,
   "metadata": {},
   "outputs": [],
   "source": [
    "with_hardware_device = True\n",
    "\n",
    "if with_hardware_device:\n",
    "    _clk = peripherals.Pin.get_uPy_pin(pin_id = 14, output = True)\n",
    "    _data = peripherals.Pin.get_uPy_pin(pin_id = 13, output = True)\n",
    "    _ss = peripherals.Pin.get_uPy_pin(pin_id = 15, output = True)\n",
    "else:\n",
    "    _spi = _ss = None  # using None for testing without actual hardware device.\n",
    "\n",
    "_reset = peripherals.Pin.get_uPy_pin(pin_id = 21, output = True)\n",
    "\n",
    "lsbfirst = True\n",
    "\n",
    "_spi = ShiftRegister(stb_pin = _ss, clk_pin = _clk, data_pin = _data, lsbfirst = lsbfirst, polarity = 1)\n",
    "\n",
    "bus = peripherals.SPI(_spi, _ss, )"
   ]
  },
  {
   "cell_type": "code",
   "execution_count": 1,
   "metadata": {},
   "outputs": [
    {
     "output_type": "stream",
     "name": "stdout",
     "text": [
      "\n",
      "<< Control >>    :  ('0x400000000', '0b10000000000000000000000000000000000')\n",
      "[ Phase ]      :  0\n",
      "[ Power_Down ] :  1\n",
      "[ Control ]    :  0\n",
      "[ Frequency ]  :  0\n",
      "[ Hz ]         :  440.00\n",
      "[ Wave length (m) ]:  6.81347e+05\n",
      "[ Period (s) ] :  2.27273e-03\n",
      "[ MCLK ]       :  125000000\n",
      "[ Phase degree ]:  0.00\n",
      "\n",
      "<< Control >>    :  ('0x400000000', '0b10000000000000000000000000000000000')\n",
      "[ Phase ]      :  0\n",
      "[ Power_Down ] :  1\n",
      "[ Control ]    :  0\n",
      "[ Frequency ]  :  0\n",
      "[ Hz ]         :  440.00\n",
      "[ Wave length (m) ]:  6.81347e+05\n",
      "[ Period (s) ] :  2.27273e-03\n",
      "[ MCLK ]       :  125000000\n",
      "[ Phase degree ]:  0.00\n",
      "\n",
      "<< Control >>    :  ('0x400003b0e', '0b10000000000000000000011101100001110')\n",
      "[ Phase ]      :  0\n",
      "[ Power_Down ] :  1\n",
      "[ Control ]    :  0\n",
      "[ Frequency ]  :  15118\n",
      "[ Hz ]         :  440.00\n",
      "[ Wave length (m) ]:  6.81347e+05\n",
      "[ Period (s) ] :  2.27273e-03\n",
      "[ MCLK ]       :  125000000\n",
      "[ Phase degree ]:  0.00\n",
      "\n",
      "<< Control >>    :  ('0x400003b0e', '0b10000000000000000000011101100001110')\n",
      "[ Phase ]      :  0\n",
      "[ Power_Down ] :  1\n",
      "[ Control ]    :  0\n",
      "[ Frequency ]  :  15118\n",
      "[ Hz ]         :  440.00\n",
      "[ Wave length (m) ]:  6.81347e+05\n",
      "[ Period (s) ] :  2.27273e-03\n",
      "[ MCLK ]       :  125000000\n",
      "[ Phase degree ]:  0.00\n",
      "\n",
      "<< Control >>    :  ('0x3b0e', '0b11101100001110')\n",
      "[ Phase ]      :  0\n",
      "[ Power_Down ] :  0\n",
      "[ Control ]    :  0\n",
      "[ Frequency ]  :  15118\n",
      "[ Hz ]         :  440.00\n",
      "[ Wave length (m) ]:  6.81347e+05\n",
      "[ Period (s) ] :  2.27273e-03\n",
      "[ MCLK ]       :  125000000\n",
      "[ Phase degree ]:  0.00\n",
      "\n",
      "<< Control >>    :  ('0x3b0e', '0b11101100001110')\n",
      "[ Phase ]      :  0\n",
      "[ Power_Down ] :  0\n",
      "[ Control ]    :  0\n",
      "[ Frequency ]  :  15118\n",
      "[ Hz ]         :  440.00\n",
      "[ Wave length (m) ]:  6.81347e+05\n",
      "[ Period (s) ] :  2.27273e-03\n",
      "[ MCLK ]       :  125000000\n",
      "[ Phase degree ]:  0.00\n"
     ]
    }
   ],
   "source": [
    "ad = AD9850(bus = bus, pin_reset = _reset)"
   ]
  },
  {
   "cell_type": "code",
   "execution_count": 1,
   "metadata": {},
   "outputs": [
    {
     "output_type": "stream",
     "name": "stdout",
     "text": [
      "\n",
      "<< Control >>    :  ('0x400000000', '0b10000000000000000000000000000000000')\n",
      "[ Phase ]      :  0\n",
      "[ Power_Down ] :  1\n",
      "[ Control ]    :  0\n",
      "[ Frequency ]  :  0\n",
      "[ Hz ]         :  440.00\n",
      "[ Wave length (m) ]:  6.81347e+05\n",
      "[ Period (s) ] :  2.27273e-03\n",
      "[ MCLK ]       :  125000000\n",
      "[ Phase degree ]:  0.00\n",
      "\n",
      "<< Control >>    :  ('0x400000000', '0b10000000000000000000000000000000000')\n",
      "[ Phase ]      :  0\n",
      "[ Power_Down ] :  1\n",
      "[ Control ]    :  0\n",
      "[ Frequency ]  :  0\n",
      "[ Hz ]         :  440.00\n",
      "[ Wave length (m) ]:  6.81347e+05\n",
      "[ Period (s) ] :  2.27273e-03\n",
      "[ MCLK ]       :  125000000\n",
      "[ Phase degree ]:  0.00\n",
      "\n",
      "<< Control >>    :  ('0x400003b0e', '0b10000000000000000000011101100001110')\n",
      "[ Phase ]      :  0\n",
      "[ Power_Down ] :  1\n",
      "[ Control ]    :  0\n",
      "[ Frequency ]  :  15118\n",
      "[ Hz ]         :  440.00\n",
      "[ Wave length (m) ]:  6.81347e+05\n",
      "[ Period (s) ] :  2.27273e-03\n",
      "[ MCLK ]       :  125000000\n",
      "[ Phase degree ]:  0.00\n",
      "\n",
      "<< Control >>    :  ('0x400003b0e', '0b10000000000000000000011101100001110')\n",
      "[ Phase ]      :  0\n",
      "[ Power_Down ] :  1\n",
      "[ Control ]    :  0\n",
      "[ Frequency ]  :  15118\n",
      "[ Hz ]         :  440.00\n",
      "[ Wave length (m) ]:  6.81347e+05\n",
      "[ Period (s) ] :  2.27273e-03\n",
      "[ MCLK ]       :  125000000\n",
      "[ Phase degree ]:  0.00\n",
      "\n",
      "<< Control >>    :  ('0x3b0e', '0b11101100001110')\n",
      "[ Phase ]      :  0\n",
      "[ Power_Down ] :  0\n",
      "[ Control ]    :  0\n",
      "[ Frequency ]  :  15118\n",
      "[ Hz ]         :  440.00\n",
      "[ Wave length (m) ]:  6.81347e+05\n",
      "[ Period (s) ] :  2.27273e-03\n",
      "[ MCLK ]       :  125000000\n",
      "[ Phase degree ]:  0.00\n",
      "\n",
      "<< Control >>    :  ('0x3b0e', '0b11101100001110')\n",
      "[ Phase ]      :  0\n",
      "[ Power_Down ] :  0\n",
      "[ Control ]    :  0\n",
      "[ Frequency ]  :  15118\n",
      "[ Hz ]         :  440.00\n",
      "[ Wave length (m) ]:  6.81347e+05\n",
      "[ Period (s) ] :  2.27273e-03\n",
      "[ MCLK ]       :  125000000\n",
      "[ Phase degree ]:  0.00\n"
     ]
    }
   ],
   "source": [
    "ad.init()"
   ]
  },
  {
   "cell_type": "code",
   "execution_count": 1,
   "metadata": {},
   "outputs": [
    {
     "output_type": "stream",
     "name": "stdout",
     "text": [
      "ad.close()\n",
      "ad.print()\n",
      "ad.start()\n",
      "ad.stop()\n",
      "ad.update()\n",
      "ad.enable()\n",
      "ad.init()\n",
      "ad.reset()\n",
      "ad.status()\n",
      "ad.enabled()\n",
      "ad.DEBUG_MODE()\n",
      "ad.is_virtual_device()\n",
      "ad.REGISTERS_COUNT()\n",
      "ad.FREQ_MCLK()\n",
      "ad.frequency()\n",
      "ad.SHAPES_CONFIG()\n",
      "ad.shape()\n",
      "ad.enable_output()\n",
      "ad.set_frequency()\n",
      "ad.set_phase()\n",
      "ad.select_freq_source()\n",
      "ad.select_phase_source()\n",
      "ad.write_all_registers()\n",
      "ad.freq_resolution()\n",
      "ad.phase_resolution()\n",
      "ad.active_freq_reg_idx()\n",
      "ad.active_phase_reg_idx()\n",
      "ad.current_frequency_register()\n",
      "ad.current_frequency()\n",
      "ad.current_phase_register()\n",
      "ad.current_phase()\n",
      "ad.apply_signal()\n",
      "ad.pause()\n",
      "ad.resume()\n",
      "ad.DEBUG_MODE_SHOW_BUS_DATA()\n",
      "ad.DEBUG_MODE_PRINT_REGISTER()\n",
      "ad.FREQ_REF()\n",
      "ad.N_OUTPUT_CLOCKS()\n",
      "ad.registers_values()\n",
      "ad.load_registers()\n",
      "ad.do()\n",
      "ad.do_on_devices()\n",
      "ad.toggle()\n",
      "ad.enable_output_channel()\n",
      "ad.read_all_registers()\n"
     ]
    }
   ],
   "source": [
    "for f in dir(cls):\n",
    "    if not f.startswith('_'):\n",
    "        print('ad.{}()'.format(f))"
   ]
  },
  {
   "cell_type": "code",
   "execution_count": 1,
   "metadata": {},
   "outputs": [
    {
     "output_type": "stream",
     "name": "stdout",
     "text": [
      "\n",
      "<< Control >>    :  ('0x400000000', '0b10000000000000000000000000000000000')\n",
      "[ Phase ]      :  0\n",
      "[ Power_Down ] :  1\n",
      "[ Control ]    :  0\n",
      "[ Frequency ]  :  0\n",
      "[ Hz ]         :  440.00\n",
      "[ Wave length (m) ]:  6.81347e+05\n",
      "[ Period (s) ] :  2.27273e-03\n",
      "[ MCLK ]       :  125000000\n",
      "[ Phase degree ]:  0.00\n",
      "\n",
      "<< Control >>    :  ('0x400000000', '0b10000000000000000000000000000000000')\n",
      "[ Phase ]      :  0\n",
      "[ Power_Down ] :  1\n",
      "[ Control ]    :  0\n",
      "[ Frequency ]  :  0\n",
      "[ Hz ]         :  440.00\n",
      "[ Wave length (m) ]:  6.81347e+05\n",
      "[ Period (s) ] :  2.27273e-03\n",
      "[ MCLK ]       :  125000000\n",
      "[ Phase degree ]:  0.00\n",
      "\n",
      "<< Control >>    :  ('0x400003b0e', '0b10000000000000000000011101100001110')\n",
      "[ Phase ]      :  0\n",
      "[ Power_Down ] :  1\n",
      "[ Control ]    :  0\n",
      "[ Frequency ]  :  15118\n",
      "[ Hz ]         :  440.00\n",
      "[ Wave length (m) ]:  6.81347e+05\n",
      "[ Period (s) ] :  2.27273e-03\n",
      "[ MCLK ]       :  125000000\n",
      "[ Phase degree ]:  0.00\n",
      "\n",
      "<< Control >>    :  ('0x400003b0e', '0b10000000000000000000011101100001110')\n",
      "[ Phase ]      :  0\n",
      "[ Power_Down ] :  1\n",
      "[ Control ]    :  0\n",
      "[ Frequency ]  :  15118\n",
      "[ Hz ]         :  440.00\n",
      "[ Wave length (m) ]:  6.81347e+05\n",
      "[ Period (s) ] :  2.27273e-03\n",
      "[ MCLK ]       :  125000000\n",
      "[ Phase degree ]:  0.00\n",
      "\n",
      "<< Control >>    :  ('0x3b0e', '0b11101100001110')\n",
      "[ Phase ]      :  0\n",
      "[ Power_Down ] :  0\n",
      "[ Control ]    :  0\n",
      "[ Frequency ]  :  15118\n",
      "[ Hz ]         :  440.00\n",
      "[ Wave length (m) ]:  6.81347e+05\n",
      "[ Period (s) ] :  2.27273e-03\n",
      "[ MCLK ]       :  125000000\n",
      "[ Phase degree ]:  0.00\n",
      "\n",
      "<< Control >>    :  ('0x3b0e', '0b11101100001110')\n",
      "[ Phase ]      :  0\n",
      "[ Power_Down ] :  0\n",
      "[ Control ]    :  0\n",
      "[ Frequency ]  :  15118\n",
      "[ Hz ]         :  440.00\n",
      "[ Wave length (m) ]:  6.81347e+05\n",
      "[ Period (s) ] :  2.27273e-03\n",
      "[ MCLK ]       :  125000000\n",
      "[ Phase degree ]:  0.00\n"
     ]
    }
   ],
   "source": [
    "ad.init()"
   ]
  },
  {
   "cell_type": "code",
   "execution_count": 1,
   "metadata": {},
   "outputs": [
    {
     "output_type": "stream",
     "name": "stdout",
     "text": [
      "\n<< Control >>    :  ('0x400000000', '0b10000000000000000000000000000000000')\n[ Phase ]      :  0\n[ Power_Down ] :  1\n[ Control ]    :  0\n[ Frequency ]  :  0\n[ Hz ]         :  440.00\n[ Wave length (m) ]:  6.81347e+05\n[ Period (s) ] :  2.27273e-03\n[ MCLK ]       :  125000000\n[ Phase degree ]:  0.00\n"
     ]
    }
   ],
   "source": [
    "ad.reset()"
   ]
  },
  {
   "cell_type": "code",
   "execution_count": 1,
   "metadata": {},
   "outputs": [
    {
     "output_type": "stream",
     "name": "stdout",
     "text": [
      "\n<< Control >>    :  ('0x4154c9860', '0b10000010101010011001001100001100000')\n[ Phase ]      :  0\n[ Power_Down ] :  1\n[ Control ]    :  0\n[ Frequency ]  :  357341280\n[ Hz ]         :  10399999.62\n[ Wave length (m) ]:  2.88262e+01\n[ Period (s) ] :  9.61539e-08\n[ MCLK ]       :  125000000\n[ Phase degree ]:  0.00\n"
     ]
    }
   ],
   "source": [
    "ad.set_frequency(1.04e7)"
   ]
  },
  {
   "cell_type": "code",
   "execution_count": 1,
   "metadata": {},
   "outputs": [
    {
     "output_type": "stream",
     "name": "stdout",
     "text": [
      "\n<< Control >>    :  ('0x4154c9860', '0b10000010101010011001001100001100000')\n[ Phase ]      :  0\n[ Power_Down ] :  1\n[ Control ]    :  0\n[ Frequency ]  :  357341280\n[ Hz ]         :  10399999.62\n[ Wave length (m) ]:  2.88262e+01\n[ Period (s) ] :  9.61539e-08\n[ MCLK ]       :  125000000\n[ Phase degree ]:  0.00\n"
     ]
    }
   ],
   "source": [
    "ad.enable_output(False)"
   ]
  },
  {
   "cell_type": "code",
   "execution_count": 1,
   "metadata": {},
   "outputs": [
    {
     "output_type": "stream",
     "name": "stdout",
     "text": [
      "\n<< Control >>    :  ('0x154c9860', '0b10101010011001001100001100000')\n[ Phase ]      :  0\n[ Power_Down ] :  0\n[ Control ]    :  0\n[ Frequency ]  :  357341280\n[ Hz ]         :  10399999.62\n[ Wave length (m) ]:  2.88262e+01\n[ Period (s) ] :  9.61539e-08\n[ MCLK ]       :  125000000\n[ Phase degree ]:  0.00\n"
     ]
    }
   ],
   "source": [
    "ad.enable_output(True)"
   ]
  },
  {
   "cell_type": "code",
   "execution_count": 1,
   "metadata": {},
   "outputs": [
    {
     "output_type": "stream",
     "name": "stdout",
     "text": [
      "\n",
      "<< Control >>    :  ('0x400000000', '0b10000000000000000000000000000000000')\n",
      "[ Phase ]      :  0\n",
      "[ Power_Down ] :  1\n",
      "[ Control ]    :  0\n",
      "[ Frequency ]  :  0\n",
      "[ Hz ]         :  440.00\n",
      "[ Wave length (m) ]:  6.81347e+05\n",
      "[ Period (s) ] :  2.27273e-03\n",
      "[ MCLK ]       :  125000000\n",
      "[ Phase degree ]:  0.00\n"
     ]
    }
   ],
   "source": [
    "ad.reset()"
   ]
  },
  {
   "cell_type": "code",
   "execution_count": 1,
   "metadata": {},
   "outputs": [
    {
     "output_type": "stream",
     "name": "stdout",
     "text": [
      "\n",
      "<< Control >>    :  ('0x400000000', '0b10000000000000000000000000000000000')\n",
      "[ Phase ]      :  0\n",
      "[ Power_Down ] :  1\n",
      "[ Control ]    :  0\n",
      "[ Frequency ]  :  0\n",
      "[ Hz ]         :  440.00\n",
      "[ Wave length (m) ]:  6.81347e+05\n",
      "[ Period (s) ] :  2.27273e-03\n",
      "[ MCLK ]       :  125000000\n",
      "[ Phase degree ]:  0.00\n"
     ]
    }
   ],
   "source": [
    "ad.control_register.print()"
   ]
  },
  {
   "cell_type": "code",
   "execution_count": 1,
   "metadata": {},
   "outputs": [
    {
     "output_type": "stream",
     "name": "stdout",
     "text": [
      "\n<< Control >>    :  ('0x400000000', '0b10000000000000000000000000000000000')\n[ Phase ]      :  0\n[ Power_Down ] :  1\n[ Control ]    :  0\n[ Frequency ]  :  0\n[ Hz ]         :  440.00\n[ Wave length (m) ]:  6.81347e+05\n[ Period (s) ] :  2.27273e-03\n[ MCLK ]       :  125000000\n[ Phase degree ]:  0.00\n"
     ]
    }
   ],
   "source": [
    "ad.print()"
   ]
  },
  {
   "cell_type": "code",
   "execution_count": 1,
   "metadata": {},
   "outputs": [
    {
     "output_type": "stream",
     "name": "stdout",
     "text": [
      "\n<< test >>:  ('0x0', '0b0')\n"
     ]
    }
   ],
   "source": [
    "cr = ad.control_register\n",
    "cr_ds = cr.dumps()\n",
    "cr1 = register.Register('test')\n",
    "cr1.loads(cr_ds)\n",
    "cr1.print();"
   ]
  },
  {
   "cell_type": "code",
   "execution_count": 1,
   "metadata": {},
   "outputs": [
    {
     "output_type": "stream",
     "name": "stdout",
     "text": [
      "\n",
      "<< Control >>    :  ('0x400003b0e', '0b10000000000000000000011101100001110')\n",
      "[ Phase ]      :  0\n",
      "[ Power_Down ] :  1\n",
      "[ Control ]    :  0\n",
      "[ Frequency ]  :  15118\n",
      "[ Hz ]         :  440.00\n",
      "[ Wave length (m) ]:  6.81347e+05\n",
      "[ Period (s) ] :  2.27273e-03\n",
      "[ MCLK ]       :  125000000\n",
      "[ Phase degree ]:  0.00\n",
      "\n",
      "<< Control >>    :  ('0x400003b0e', '0b10000000000000000000011101100001110')\n",
      "[ Phase ]      :  0\n",
      "[ Power_Down ] :  1\n",
      "[ Control ]    :  0\n",
      "[ Frequency ]  :  15118\n",
      "[ Hz ]         :  440.00\n",
      "[ Wave length (m) ]:  6.81347e+05\n",
      "[ Period (s) ] :  2.27273e-03\n",
      "[ MCLK ]       :  125000000\n",
      "[ Phase degree ]:  0.00\n"
     ]
    }
   ],
   "source": [
    "ad.apply_signal()"
   ]
  },
  {
   "cell_type": "code",
   "execution_count": 1,
   "metadata": {},
   "outputs": [
    {
     "output_type": "stream",
     "name": "stdout",
     "text": [
      "\n<< Control >>    :  ('0x400003b0e', '0b10000000000000000000011101100001110')\n[ Phase ]      :  0\n[ Power_Down ] :  1\n[ Control ]    :  0\n[ Frequency ]  :  15118\n[ Hz ]         :  440.00\n[ Wave length (m) ]:  6.81347e+05\n[ Period (s) ] :  2.27273e-03\n[ MCLK ]       :  125000000\n[ Phase degree ]:  0.00\n"
     ]
    }
   ],
   "source": [
    "ad.set_frequency(440)"
   ]
  },
  {
   "cell_type": "code",
   "execution_count": 1,
   "metadata": {},
   "outputs": [
    {
     "output_type": "stream",
     "name": "stdout",
     "text": [
      "\n",
      "<< Control >>    :  ('0x414e3bce0', '0b10000010100111000111011110011100000')\n",
      "[ Phase ]      :  0\n",
      "[ Power_Down ] :  1\n",
      "[ Control ]    :  0\n",
      "[ Frequency ]  :  350469344\n",
      "[ Hz ]         :  10199999.81\n",
      "[ Wave length (m) ]:  2.93914e+01\n",
      "[ Period (s) ] :  9.80392e-08\n",
      "[ MCLK ]       :  125000000\n",
      "[ Phase degree ]:  0.00\n"
     ]
    }
   ],
   "source": [
    "ad.set_frequency(10.2e6)"
   ]
  },
  {
   "cell_type": "code",
   "execution_count": 1,
   "metadata": {},
   "outputs": [
    {
     "output_type": "stream",
     "name": "stdout",
     "text": [
      "\n<< Control >>    :  ('0x44c985f00', '0b10001001100100110000101111100000000')\n[ Phase ]      :  0\n[ Power_Down ] :  1\n[ Control ]    :  0\n[ Frequency ]  :  1285054208\n[ Hz ]         :  37399997.71\n[ Wave length (m) ]:  8.01584e+00\n[ Period (s) ] :  2.67380e-08\n[ MCLK ]       :  125000000\n[ Phase degree ]:  0.00\n"
     ]
    }
   ],
   "source": [
    "ad.set_frequency(37.4e6)"
   ]
  },
  {
   "cell_type": "code",
   "execution_count": 1,
   "metadata": {},
   "outputs": [
    {
     "output_type": "stream",
     "name": "stdout",
     "text": [
      "\n<< Control >>    :  ('0x44c985f00', '0b10001001100100110000101111100000000')\n[ Phase ]      :  0\n[ Power_Down ] :  1\n[ Control ]    :  0\n[ Frequency ]  :  1285054208\n[ Hz ]         :  37399997.71\n[ Wave length (m) ]:  8.01584e+00\n[ Period (s) ] :  2.67380e-08\n[ MCLK ]       :  125000000\n[ Phase degree ]:  0.00\n"
     ]
    }
   ],
   "source": [
    "ad.print()"
   ]
  },
  {
   "cell_type": "code",
   "execution_count": null,
   "metadata": {},
   "outputs": [],
   "source": []
  }
 ],
 "metadata": {
  "kernelspec": {
   "display_name": "MicroPython Remote",
   "language": "micropython",
   "name": "micropython"
  },
  "language_info": {
   "codemirror_mode": "python",
   "file_extension": ".py",
   "mimetype": "text/python",
   "name": "micropython"
  }
 },
 "nbformat": 4,
 "nbformat_minor": 5
}
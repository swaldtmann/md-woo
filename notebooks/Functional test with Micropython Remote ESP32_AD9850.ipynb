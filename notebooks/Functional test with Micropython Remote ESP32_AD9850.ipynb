{
 "cells": [
  {
   "source": [
    "- pin_id_sck = 14 = W_CLK\n",
    "- pin_id_mosi = 13 = DATA\n",
    "- pin_id_miso = 12 = None\n",
    "- pin_id_ss = 15 = FQ_UD\n",
    "- pin_id_reset = 17 = RESET\n",
    "\n",
    "\n",
    "- https://hackaday.com/tag/ad9850/\n",
    "- https://www.youtube.com/watch?v=QkHsryvDZfo&t=1200s\n",
    "- https://swharden.com/blog/2018-06-03-bit-bang-ftdi-usb-to-serial-converters-to-drive-spi-devices/\n"
   ],
   "cell_type": "markdown",
   "metadata": {}
  },
  {
   "cell_type": "code",
   "execution_count": 1,
   "id": "7f89e211",
   "metadata": {},
   "outputs": [
    {
     "output_type": "stream",
     "name": "stdout",
     "text": [
      "ls: /dev/tty.usbserial-*: No such file or directory\n"
     ]
    }
   ],
   "source": [
    "%local\n",
    "!ls /dev/tty.usbserial-*"
   ]
  },
  {
   "cell_type": "code",
   "execution_count": 3,
   "id": "7abc2055",
   "metadata": {},
   "outputs": [
    {
     "output_type": "stream",
     "name": "stdout",
     "text": [
      "\u001b[34mConnected on /dev/tty.usbserial-0001\n\u001b[0m"
     ]
    }
   ],
   "source": [
    "%connect /dev/tty.usbserial-0001 --baudrate=115200 --user='micro' --password='python' --wait=0"
   ]
  },
  {
   "cell_type": "code",
   "execution_count": 3,
   "metadata": {},
   "outputs": [],
   "source": [
    "from utilities import register\n",
    "from utilities.adapters import peripherals\n",
    "from utilities.shift_register import ShiftRegister\n",
    "from signal_generators.ad98xx.ad9850 import *"
   ]
  },
  {
   "cell_type": "code",
   "execution_count": 3,
   "metadata": {},
   "outputs": [],
   "source": [
    "cls = AD9850"
   ]
  },
  {
   "cell_type": "code",
   "execution_count": 3,
   "metadata": {},
   "outputs": [],
   "source": [
    "cls.DEBUG_MODE_SHOW_BUS_DATA = False      # whether to show bus data. \n",
    "cls.DEBUG_MODE_PRINT_REGISTER = False        # whether to print registers. "
   ]
  },
  {
   "cell_type": "code",
   "execution_count": 3,
   "metadata": {},
   "outputs": [],
   "source": [
    "import machine\n",
    "import gc\n",
    "\n",
    "gc.collect()"
   ]
  },
  {
   "cell_type": "code",
   "execution_count": 3,
   "metadata": {},
   "outputs": [],
   "source": [
    "with_hardware_device = True\n",
    "\n",
    "if with_hardware_device:\n",
    "    _clk = peripherals.Pin.get_uPy_pin(pin_id = 14, output = True)\n",
    "    _data = peripherals.Pin.get_uPy_pin(pin_id = 13, output = True)\n",
    "    _ss = peripherals.Pin.get_uPy_pin(pin_id = 15, output = True)\n",
    "else:\n",
    "    _spi = _ss = None  # using None for testing without actual hardware device.\n",
    "\n",
    "_reset = peripherals.Pin.get_uPy_pin(pin_id = 21, output = True)\n",
    "\n",
    "lsbfirst = True\n",
    "\n",
    "_spi = ShiftRegister(stb_pin = _ss, clk_pin = _clk, data_pin = _data, lsbfirst = lsbfirst, polarity = 1)\n",
    "\n",
    "bus = peripherals.SPI(_spi, _ss, )"
   ]
  },
  {
   "cell_type": "code",
   "execution_count": 3,
   "metadata": {},
   "outputs": [],
   "source": [
    "ad = AD9850(bus = bus, pin_reset = _reset)"
   ]
  },
  {
   "cell_type": "code",
   "execution_count": 3,
   "metadata": {},
   "outputs": [],
   "source": [
    "ad.init()"
   ]
  },
  {
   "cell_type": "code",
   "execution_count": 3,
   "metadata": {},
   "outputs": [
    {
     "output_type": "stream",
     "name": "stdout",
     "text": [
      "ad.close()\nad.print()\nad.start()\nad.stop()\nad.update()\nad.enable()\nad.init()\nad.reset()\nad.status()\nad.enabled()\nad.DEBUG_MODE()\nad.is_virtual_device()\nad.FREQ_MCLK()\nad.frequency()\nad.REGISTERS_COUNT()\nad.SHAPES_CONFIG()\nad.write_all_registers()\nad.freq_resolution()\nad.phase_resolution()\nad.set_frequency()\nad.set_phase()\nad.select_freq_source()\nad.select_phase_source()\nad.active_freq_reg_idx()\nad.active_phase_reg_idx()\nad.current_frequency_register()\nad.current_frequency()\nad.current_phase_register()\nad.current_phase()\nad.shape()\nad.enable_output()\nad.apply_signal()\nad.pause()\nad.resume()\nad.DEBUG_MODE_SHOW_BUS_DATA()\nad.DEBUG_MODE_PRINT_REGISTER()\nad.FREQ_REF()\nad.N_OUTPUT_CLOCKS()\nad.do()\nad.do_on_devices()\nad.load_registers()\nad.registers_values()\nad.toggle()\nad.enable_output_channel()\nad.read_all_registers()\n"
     ]
    }
   ],
   "source": [
    "for f in dir(cls):\n",
    "    if not f.startswith('_'):\n",
    "        print('ad.{}()'.format(f))"
   ]
  },
  {
   "cell_type": "code",
   "execution_count": 3,
   "metadata": {},
   "outputs": [],
   "source": [
    "ad.init()"
   ]
  },
  {
   "cell_type": "code",
   "execution_count": 3,
   "metadata": {},
   "outputs": [],
   "source": [
    "ad.reset()"
   ]
  },
  {
   "cell_type": "code",
   "execution_count": null,
   "metadata": {},
   "outputs": [],
   "source": [
    "ad.set_frequency(1.04e7)"
   ]
  },
  {
   "cell_type": "code",
   "execution_count": null,
   "metadata": {},
   "outputs": [],
   "source": [
    "ad.enable_output(False)"
   ]
  },
  {
   "cell_type": "code",
   "execution_count": null,
   "metadata": {},
   "outputs": [],
   "source": [
    "ad.enable_output(True)"
   ]
  },
  {
   "cell_type": "code",
   "execution_count": 3,
   "metadata": {},
   "outputs": [],
   "source": [
    "ad.reset()"
   ]
  },
  {
   "cell_type": "code",
   "execution_count": null,
   "metadata": {},
   "outputs": [],
   "source": [
    "ad.control_register.print()"
   ]
  },
  {
   "cell_type": "code",
   "execution_count": 3,
   "metadata": {},
   "outputs": [
    {
     "output_type": "stream",
     "name": "stdout",
     "text": [
      "\n<< Control >>    :  ('0x400000000', '0b10000000000000000000000000000000000')\n[ Phase ]      :  0\n[ Power_Down ] :  1\n[ Control ]    :  0\n[ Frequency ]  :  0\n[ Hz ]         :  440.00\n[ Wave length (m) ]:  6.81347e+05\n[ Period (s) ] :  2.27273e-03\n[ MCLK ]       :  125000000\n[ Phase degree ]:  0.00\n"
     ]
    }
   ],
   "source": [
    "ad.print()"
   ]
  },
  {
   "cell_type": "code",
   "execution_count": 3,
   "metadata": {},
   "outputs": [
    {
     "output_type": "stream",
     "name": "stdout",
     "text": [
      "\n<< test >>:  ('0x0', '0b0')\n"
     ]
    }
   ],
   "source": [
    "cr = ad.control_register\n",
    "cr_ds = cr.dumps()\n",
    "cr1 = register.Register('test')\n",
    "cr1.loads(cr_ds)\n",
    "cr1.print();"
   ]
  },
  {
   "cell_type": "code",
   "execution_count": 3,
   "metadata": {},
   "outputs": [],
   "source": [
    "ad.apply_signal()"
   ]
  },
  {
   "cell_type": "code",
   "execution_count": 3,
   "metadata": {},
   "outputs": [],
   "source": [
    "ad.set_frequency(440)"
   ]
  },
  {
   "cell_type": "code",
   "execution_count": 3,
   "metadata": {},
   "outputs": [],
   "source": [
    "ad.set_frequency(10.2e6)"
   ]
  },
  {
   "cell_type": "code",
   "execution_count": null,
   "metadata": {},
   "outputs": [],
   "source": [
    "ad.set_frequency(37.4e6)"
   ]
  },
  {
   "cell_type": "code",
   "execution_count": 3,
   "metadata": {},
   "outputs": [
    {
     "output_type": "stream",
     "name": "stdout",
     "text": [
      "\n<< Control >>    :  ('0x414e3bce0', '0b10000010100111000111011110011100000')\n[ Phase ]      :  0\n[ Power_Down ] :  1\n[ Control ]    :  0\n[ Frequency ]  :  350469344\n[ Hz ]         :  10199999.81\n[ Wave length (m) ]:  2.93914e+01\n[ Period (s) ] :  9.80392e-08\n[ MCLK ]       :  125000000\n[ Phase degree ]:  0.00\n"
     ]
    }
   ],
   "source": [
    "ad.print()"
   ]
  },
  {
   "cell_type": "code",
   "execution_count": 3,
   "metadata": {},
   "outputs": [],
   "source": [
    "ad.set_frequency(4.83e3)"
   ]
  },
  {
   "cell_type": "code",
   "execution_count": null,
   "metadata": {},
   "outputs": [],
   "source": []
  }
 ],
 "metadata": {
  "kernelspec": {
   "display_name": "MicroPython Remote",
   "language": "micropython",
   "name": "micropython"
  },
  "language_info": {
   "codemirror_mode": "python",
   "file_extension": ".py",
   "mimetype": "text/python",
   "name": "micropython"
  }
 },
 "nbformat": 4,
 "nbformat_minor": 5
}
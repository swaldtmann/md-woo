{
 "cells": [
  {
   "cell_type": "markdown",
   "id": "34188f3a",
   "metadata": {},
   "source": [
    "- pin_id_sck = 14 = W_CLK\n",
    "- pin_id_mosi = 13 = DATA\n",
    "- pin_id_miso = 12 = None\n",
    "- pin_id_ss = 15 = FQ_UD\n",
    "- pin_id_reset = 17 = RESET\n",
    "\n",
    "\n",
    "- https://hackaday.com/tag/ad9850/\n",
    "- https://www.youtube.com/watch?v=QkHsryvDZfo&t=1200s\n",
    "- https://swharden.com/blog/2018-06-03-bit-bang-ftdi-usb-to-serial-converters-to-drive-spi-devices/\n"
   ]
  },
  {
   "cell_type": "code",
   "execution_count": 11,
   "id": "5e6ae625",
   "metadata": {},
   "outputs": [
    {
     "name": "stdout",
     "output_type": "stream",
     "text": [
      "\u001b[34m\u001b[43m/dev/tty.usbserial-0001\u001b[m\u001b[m\n"
     ]
    }
   ],
   "source": [
    "%local\n",
    "!ls /dev/tty.usbserial-*"
   ]
  },
  {
   "cell_type": "code",
   "execution_count": 12,
   "id": "7abc2055",
   "metadata": {},
   "outputs": [
    {
     "name": "stdout",
     "output_type": "stream",
     "text": [
      "\u001b[34mConnected on /dev/tty.usbserial-0001\n",
      "\u001b[0m"
     ]
    }
   ],
   "source": [
    "%connect /dev/tty.usbserial-0001 --baudrate=115200 --user='micro' --password='python' --wait=0"
   ]
  },
  {
   "cell_type": "code",
   "execution_count": 12,
   "id": "eeabf7d7",
   "metadata": {},
   "outputs": [],
   "source": [
    "from utilities import register\n",
    "from utilities.adapters import peripherals\n",
    "from utilities.shift_register import ShiftRegister\n",
    "from signal_generators.ad98xx.ad9850 import *"
   ]
  },
  {
   "cell_type": "code",
   "execution_count": 12,
   "id": "62644854",
   "metadata": {},
   "outputs": [],
   "source": [
    "cls = AD9850"
   ]
  },
  {
   "cell_type": "code",
   "execution_count": 12,
   "id": "8a57a348",
   "metadata": {},
   "outputs": [],
   "source": [
    "cls.DEBUG_MODE_SHOW_BUS_DATA = False      # whether to show bus data. \n",
    "cls.DEBUG_MODE_PRINT_REGISTER = False        # whether to print registers. "
   ]
  },
  {
   "cell_type": "code",
   "execution_count": 12,
   "id": "97271380",
   "metadata": {},
   "outputs": [],
   "source": [
    "import machine\n",
    "import gc\n",
    "\n",
    "gc.collect()"
   ]
  },
  {
   "cell_type": "code",
   "execution_count": 12,
   "id": "f5a8917a",
   "metadata": {},
   "outputs": [],
   "source": [
    "with_hardware_device = True\n",
    "\n",
    "if with_hardware_device:\n",
    "    _clk = peripherals.Pin.get_uPy_pin(pin_id = 14, output = True)\n",
    "    _data = peripherals.Pin.get_uPy_pin(pin_id = 13, output = True)\n",
    "    _ss = peripherals.Pin.get_uPy_pin(pin_id = 15, output = True)\n",
    "else:\n",
    "    _spi = _ss = None  # using None for testing without actual hardware device.\n",
    "\n",
    "_reset = peripherals.Pin.get_uPy_pin(pin_id = 21, output = True)\n",
    "\n",
    "lsbfirst = True\n",
    "\n",
    "_spi = ShiftRegister(stb_pin = _ss, clk_pin = _clk, data_pin = _data, lsbfirst = lsbfirst, polarity = 1)\n",
    "\n",
    "bus = peripherals.SPI(_spi, _ss, )"
   ]
  },
  {
   "cell_type": "code",
   "execution_count": 12,
   "id": "f80f1a81",
   "metadata": {},
   "outputs": [],
   "source": [
    "ad = AD9850(bus = bus, pin_reset = _reset)"
   ]
  },
  {
   "cell_type": "code",
   "execution_count": 12,
   "id": "d757b461",
   "metadata": {},
   "outputs": [],
   "source": [
    "ad.set_frequency(4.84e3)"
   ]
  },
  {
   "cell_type": "code",
   "execution_count": null,
   "id": "b8d984fc",
   "metadata": {},
   "outputs": [],
   "source": []
  }
 ],
 "metadata": {
  "kernelspec": {
   "display_name": "MicroPython Remote",
   "language": "micropython",
   "name": "micropython"
  },
  "language_info": {
   "codemirror_mode": "python",
   "file_extension": ".py",
   "mimetype": "text/python",
   "name": "micropython"
  }
 },
 "nbformat": 4,
 "nbformat_minor": 5
}

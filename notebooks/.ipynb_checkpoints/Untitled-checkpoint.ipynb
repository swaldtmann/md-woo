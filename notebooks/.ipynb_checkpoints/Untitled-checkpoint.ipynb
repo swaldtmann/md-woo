{
 "cells": [
  {
   "cell_type": "code",
   "execution_count": 1,
   "id": "7f89e211",
   "metadata": {},
   "outputs": [
    {
     "name": "stdout",
     "output_type": "stream",
     "text": [
      "\u001b[34m\u001b[43m/dev/tty.usbserial-0001\u001b[m\u001b[m\r\n"
     ]
    }
   ],
   "source": [
    "%local\n",
    "!ls /dev/tty.usbserial-*"
   ]
  },
  {
   "cell_type": "code",
   "execution_count": 2,
   "id": "7abc2055",
   "metadata": {},
   "outputs": [
    {
     "name": "stdout",
     "output_type": "stream",
     "text": [
      "\u001b[34mConnected on /dev/tty.usbserial-0001\n",
      "\u001b[0m"
     ]
    }
   ],
   "source": [
    "%connect /dev/tty.usbserial-0001 --baudrate=115200 --user='micro' --password='python' --wait=0"
   ]
  },
  {
   "cell_type": "code",
   "execution_count": 2,
   "id": "f14d7885",
   "metadata": {
    "scrolled": true
   },
   "outputs": [
    {
     "name": "stdout",
     "output_type": "stream",
     "text": [
      "['bridges', 'signal_generators', 'utilities']\r\n"
     ]
    }
   ],
   "source": [
    "import os\n",
    "print(os.listdir('libs'))"
   ]
  },
  {
   "cell_type": "code",
   "execution_count": 2,
   "id": "6d9f672d",
   "metadata": {},
   "outputs": [],
   "source": [
    "import sys\n",
    "def append_source_relative_path(source_relative_path):\n",
    "    sys.path.append(os.sep.join(source_relative_path))"
   ]
  },
  {
   "cell_type": "code",
   "execution_count": 2,
   "id": "a6b44a43",
   "metadata": {},
   "outputs": [
    {
     "name": "stdout",
     "output_type": "stream",
     "text": [
      "['', '/lib']\r\n"
     ]
    }
   ],
   "source": [
    "print(sys.path)"
   ]
  },
  {
   "cell_type": "code",
   "execution_count": 2,
   "id": "9e14401c",
   "metadata": {},
   "outputs": [
    {
     "name": "stderr",
     "output_type": "stream",
     "text": [
      "Traceback (most recent call last):\r\n",
      "  File \"<stdin>\", line 1, in <module>\r\n",
      "ImportError: no module named 'lib'\r\n"
     ]
    }
   ],
   "source": [
    "from utilities import register\n",
    "from utilities.adapters import peripherals\n",
    "from utilities.shift_register import ShiftRegister\n",
    "from signal_generators.ad98xx.ad9833 import *\n",
    "from signal_generators.ad98xx.ad9834 import *\n",
    "from signal_generators.ad98xx.ad9850 import *"
   ]
  },
  {
   "cell_type": "code",
   "execution_count": 2,
   "id": "671d918e",
   "metadata": {},
   "outputs": [
    {
     "name": "stderr",
     "output_type": "stream",
     "text": [
      "Traceback (most recent call last):\r\n",
      "  File \"<stdin>\", line 1, in <module>\r\n",
      "  File \"libs/utilities/adapters/peripherals.py\", line 30, in <module>\r\n",
      "ImportError: no module named 'shift_register'\r\n"
     ]
    }
   ],
   "source": [
    "import libs.utilities.adapters.peripherals"
   ]
  }
 ],
 "metadata": {
  "kernelspec": {
   "display_name": "MicroPython Remote",
   "language": "micropython",
   "name": "micropython"
  },
  "language_info": {
   "codemirror_mode": "python",
   "file_extension": ".py",
   "mimetype": "text/python",
   "name": "micropython"
  }
 },
 "nbformat": 4,
 "nbformat_minor": 5
}
